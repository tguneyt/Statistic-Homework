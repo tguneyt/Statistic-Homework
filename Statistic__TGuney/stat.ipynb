{
 "cells": [
  {
   "cell_type": "code",
   "execution_count": null,
   "metadata": {},
   "outputs": [],
   "source": [
    "import matplotlib.pyplot as plt\n",
    "import numpy as np\n",
    "import seaborn as sns\n",
    "import pandas as pd\n"
   ]
  },
  {
   "cell_type": "markdown",
   "metadata": {},
   "source": [
    "# Q-1\n",
    "Titanic(titanic.csv) data and write down what the columns mean and what values are they composed of?\n",
    "\n",
    "meanings of columns and data types(for SQL)\n",
    "\n",
    "![](q1.png)\n",
    "\n"
   ]
  },
  {
   "cell_type": "code",
   "execution_count": 164,
   "metadata": {},
   "outputs": [
    {
     "data": {
      "text/html": [
       "<div>\n",
       "<style scoped>\n",
       "    .dataframe tbody tr th:only-of-type {\n",
       "        vertical-align: middle;\n",
       "    }\n",
       "\n",
       "    .dataframe tbody tr th {\n",
       "        vertical-align: top;\n",
       "    }\n",
       "\n",
       "    .dataframe thead th {\n",
       "        text-align: right;\n",
       "    }\n",
       "</style>\n",
       "<table border=\"1\" class=\"dataframe\">\n",
       "  <thead>\n",
       "    <tr style=\"text-align: right;\">\n",
       "      <th></th>\n",
       "      <th>column</th>\n",
       "      <th>explanation</th>\n",
       "      <th>data type</th>\n",
       "      <th>example</th>\n",
       "    </tr>\n",
       "  </thead>\n",
       "  <tbody>\n",
       "    <tr>\n",
       "      <th>0</th>\n",
       "      <td>PassengerId</td>\n",
       "      <td>identity for each user</td>\n",
       "      <td>integer</td>\n",
       "      <td>892</td>\n",
       "    </tr>\n",
       "    <tr>\n",
       "      <th>1</th>\n",
       "      <td>Pclass</td>\n",
       "      <td>passenger class</td>\n",
       "      <td>integer</td>\n",
       "      <td>3</td>\n",
       "    </tr>\n",
       "    <tr>\n",
       "      <th>2</th>\n",
       "      <td>Name</td>\n",
       "      <td>passenger name</td>\n",
       "      <td>character varying</td>\n",
       "      <td>Kelly, Mr James</td>\n",
       "    </tr>\n",
       "    <tr>\n",
       "      <th>3</th>\n",
       "      <td>Sex</td>\n",
       "      <td>passenger gender</td>\n",
       "      <td>character varying</td>\n",
       "      <td>male</td>\n",
       "    </tr>\n",
       "    <tr>\n",
       "      <th>4</th>\n",
       "      <td>Age</td>\n",
       "      <td>passenger age</td>\n",
       "      <td>numeric</td>\n",
       "      <td>34.5</td>\n",
       "    </tr>\n",
       "    <tr>\n",
       "      <th>5</th>\n",
       "      <td>SibSp</td>\n",
       "      <td>number of siblings/spouses aboard</td>\n",
       "      <td>integer</td>\n",
       "      <td>0</td>\n",
       "    </tr>\n",
       "    <tr>\n",
       "      <th>6</th>\n",
       "      <td>Parch</td>\n",
       "      <td>number of parents/children aboard</td>\n",
       "      <td>integer</td>\n",
       "      <td>0</td>\n",
       "    </tr>\n",
       "    <tr>\n",
       "      <th>7</th>\n",
       "      <td>Ticket</td>\n",
       "      <td>ticket number</td>\n",
       "      <td>character varying</td>\n",
       "      <td>330911</td>\n",
       "    </tr>\n",
       "    <tr>\n",
       "      <th>8</th>\n",
       "      <td>Fare</td>\n",
       "      <td>ticket price</td>\n",
       "      <td>numeric</td>\n",
       "      <td>78.292</td>\n",
       "    </tr>\n",
       "    <tr>\n",
       "      <th>9</th>\n",
       "      <td>Cabin</td>\n",
       "      <td>cabin mumber</td>\n",
       "      <td>character varying</td>\n",
       "      <td></td>\n",
       "    </tr>\n",
       "    <tr>\n",
       "      <th>10</th>\n",
       "      <td>Embarked</td>\n",
       "      <td>port of embarkation(C=Cherbourg; Q=Queenstown;...</td>\n",
       "      <td>character varying</td>\n",
       "      <td>Q</td>\n",
       "    </tr>\n",
       "  </tbody>\n",
       "</table>\n",
       "</div>"
      ],
      "text/plain": [
       "         column                                        explanation  \\\n",
       "0   PassengerId                             identity for each user   \n",
       "1        Pclass                                    passenger class   \n",
       "2          Name                                     passenger name   \n",
       "3           Sex                                   passenger gender   \n",
       "4           Age                                      passenger age   \n",
       "5         SibSp                  number of siblings/spouses aboard   \n",
       "6         Parch                  number of parents/children aboard   \n",
       "7        Ticket                                      ticket number   \n",
       "8          Fare                                       ticket price   \n",
       "9         Cabin                                       cabin mumber   \n",
       "10     Embarked  port of embarkation(C=Cherbourg; Q=Queenstown;...   \n",
       "\n",
       "            data type          example  \n",
       "0             integer              892  \n",
       "1             integer                3  \n",
       "2   character varying  Kelly, Mr James  \n",
       "3   character varying             male  \n",
       "4             numeric             34.5  \n",
       "5             integer                0  \n",
       "6             integer                0  \n",
       "7   character varying           330911  \n",
       "8             numeric           78.292  \n",
       "9   character varying                   \n",
       "10  character varying                Q  "
      ]
     },
     "execution_count": 164,
     "metadata": {},
     "output_type": "execute_result"
    }
   ],
   "source": [
    "data_fr = {\"column\": [\"PassengerId\",\"Pclass\",\"Name\",\"Sex\",\"Age\",\"SibSp\",\"Parch\",\"Ticket\",\"Fare\",\"Cabin\",\"Embarked\"], \"explanation\": [\"identity for each user\",\"passenger class\",\"passenger name\",\"passenger gender\",\"passenger age\",\"number of siblings/spouses aboard\",\"number of parents/children aboard\",\"ticket number\",\"ticket price\",\"cabin mumber\",\"port of embarkation(C=Cherbourg; Q=Queenstown;S=Southhampton\"],\"data type\":[\"integer\",\"integer\",\"character varying\",\"character varying\",\"numeric\",\"integer\",\"integer\",\"character varying\",\"numeric\",\"character varying\",\"character varying\"],\"example\": [892,3,\"Kelly, Mr James\",\"male\",34.5,0,0,\"330911\",78.292,\"\",\"Q\"]}\n",
    "data_frame = pd.DataFrame(data_fr)  \n",
    "data_frame"
   ]
  },
  {
   "cell_type": "code",
   "execution_count": null,
   "metadata": {},
   "outputs": [],
   "source": [
    "url=\"https://raw.githubusercontent.com/InfotechAcademy/statistics_-/main/titanic.csv\"\n",
    "data=pd.read_csv(url)\n",
    "data.head()"
   ]
  },
  {
   "cell_type": "code",
   "execution_count": 163,
   "metadata": {},
   "outputs": [
    {
     "data": {
      "text/plain": [
       "PassengerId      int64\n",
       "Pclass           int64\n",
       "Name            object\n",
       "Sex             object\n",
       "Age            float64\n",
       "SibSp            int64\n",
       "Parch            int64\n",
       "Ticket          object\n",
       "Fare           float64\n",
       "Cabin           object\n",
       "Embarked        object\n",
       "dtype: object"
      ]
     },
     "execution_count": 163,
     "metadata": {},
     "output_type": "execute_result"
    }
   ],
   "source": [
    "# data types\n",
    "data.dtypes"
   ]
  },
  {
   "cell_type": "markdown",
   "metadata": {},
   "source": [
    "# Q-2\n",
    "\n",
    "Which are the two columns with the highest correlation in Titanic data?"
   ]
  },
  {
   "cell_type": "code",
   "execution_count": null,
   "metadata": {},
   "outputs": [],
   "source": [
    "data.corr()"
   ]
  },
  {
   "cell_type": "code",
   "execution_count": null,
   "metadata": {},
   "outputs": [],
   "source": [
    "sns.heatmap(data.corr())"
   ]
  },
  {
   "cell_type": "code",
   "execution_count": null,
   "metadata": {},
   "outputs": [],
   "source": [
    "# Correlation Headmap\n",
    "f,ax=plt.subplots(figsize = (10,10))\n",
    "sns.heatmap(data.corr(),annot= True,linewidths=0.5,fmt = \".3f\",ax=ax)\n",
    "plt.xticks(rotation=90)\n",
    "plt.yticks(rotation=0)\n",
    "plt.title('Correlation Map')\n",
    "plt.show()"
   ]
  },
  {
   "cell_type": "markdown",
   "metadata": {},
   "source": [
    "Which are the two columns with the highest correlation in Titanic data?\n",
    "\n",
    "Age - Fare : 0.338\n",
    "\n",
    "Parch - SibSp : 0.307"
   ]
  },
  {
   "cell_type": "markdown",
   "metadata": {},
   "source": [
    "# Q-3\n",
    "\n",
    "For “Fare” columns in Titanic data find\n",
    "\n",
    "a) maximum, minimum\n",
    "b) mean\n",
    "c) mode\n",
    "d) median\n",
    "and\n",
    "f) Draw the graph boxplot"
   ]
  },
  {
   "cell_type": "code",
   "execution_count": null,
   "metadata": {},
   "outputs": [],
   "source": [
    "# maximum\n",
    "data.Fare.max()"
   ]
  },
  {
   "cell_type": "code",
   "execution_count": null,
   "metadata": {},
   "outputs": [],
   "source": [
    "# minimum\n",
    "data.Fare.min()"
   ]
  },
  {
   "cell_type": "code",
   "execution_count": null,
   "metadata": {},
   "outputs": [],
   "source": [
    "# mean\n",
    "data.Fare.mean() "
   ]
  },
  {
   "cell_type": "code",
   "execution_count": null,
   "metadata": {},
   "outputs": [],
   "source": [
    "# mode\n",
    "data.Fare.mode()"
   ]
  },
  {
   "cell_type": "code",
   "execution_count": null,
   "metadata": {},
   "outputs": [],
   "source": [
    "# median\n",
    "data.Fare.median()"
   ]
  },
  {
   "cell_type": "code",
   "execution_count": null,
   "metadata": {},
   "outputs": [],
   "source": [
    "sns.boxplot(y=\"Fare\",data=data,width=0.3, palette=[\"lightblue\"])\n",
    "# plt.show()"
   ]
  },
  {
   "cell_type": "markdown",
   "metadata": {},
   "source": [
    "# Q-4\n",
    "\n",
    "penguin.csv\n",
    "\n",
    "a) How many rows and columns\n",
    "b) Find the 2 columns with the highest correlation and draw this in the scatterplot?"
   ]
  },
  {
   "cell_type": "code",
   "execution_count": null,
   "metadata": {},
   "outputs": [],
   "source": [
    "url=\"https://raw.githubusercontent.com/InfotechAcademy/statistics_-/main/penguins.csv\"\n",
    "data_p = pd.read_csv(url)\n",
    "data_p.head()"
   ]
  },
  {
   "cell_type": "code",
   "execution_count": null,
   "metadata": {},
   "outputs": [],
   "source": [
    "# How many rows and columns\n",
    "data_p.shape\n",
    "print(\"Rows    : \",data_p.shape[0])\n",
    "print(\"Columns : \",data_p.shape[1])"
   ]
  },
  {
   "cell_type": "code",
   "execution_count": null,
   "metadata": {},
   "outputs": [],
   "source": [
    "data_p.corr()"
   ]
  },
  {
   "cell_type": "code",
   "execution_count": null,
   "metadata": {},
   "outputs": [],
   "source": [
    "f,ax=plt.subplots(figsize = (10,10))\n",
    "sns.heatmap(data_p.corr(),annot= True,linewidths=0.5,fmt = \".3f\",ax=ax)\n",
    "plt.xticks(rotation=90)\n",
    "plt.yticks(rotation=0)\n",
    "plt.title('Correlation Map')\n",
    "plt.show()"
   ]
  },
  {
   "cell_type": "markdown",
   "metadata": {},
   "source": [
    "Find the 2 columns with the highest correlation\n",
    "\n",
    "Flipper Length (mm) - Culmen Length (mm) : 0.656\n",
    "\n",
    "Delta 15 N (o/oo) - Culmen Depth (mm) : 0.606"
   ]
  },
  {
   "cell_type": "code",
   "execution_count": 171,
   "metadata": {},
   "outputs": [
    {
     "data": {
      "image/png": "[encoded data removed]",
      "text/plain": [
       "<Figure size 432x288 with 1 Axes>"
      ]
     },
     "metadata": {
      "needs_background": "light"
     },
     "output_type": "display_data"
    }
   ],
   "source": [
    "# draw this in the scatterplot\n",
    "sns.scatterplot(data=data_p, x=\"Culmen Length (mm)\", y=\"Flipper Length (mm)\")\n",
    "plt.show()\n"
   ]
  },
  {
   "cell_type": "markdown",
   "metadata": {},
   "source": [
    "# Q-5\n",
    "\n",
    "The column \"bill_length_mm\" of penguins data, find:\n",
    "\n",
    "a) mean\n",
    "\n",
    "b) minimum, maximum\n",
    "\n",
    "c) mode\n",
    "\n",
    "d) median\n",
    "\n",
    "e) Draw the graph boxplot"
   ]
  },
  {
   "cell_type": "code",
   "execution_count": null,
   "metadata": {},
   "outputs": [],
   "source": [
    "\n",
    "data_p2 = pd.read_csv(\"https://raw.githubusercontent.com/tguneyt/Statistic-Homework/main/Statistic__TGuney/penguins2.csv\")\n",
    "data_p2.head()"
   ]
  },
  {
   "cell_type": "code",
   "execution_count": null,
   "metadata": {},
   "outputs": [],
   "source": [
    "# for bill_length_mm\n",
    "print(f'''\n",
    "{\"Mean\":<10} : {data_p2.bill_length_mm.mean()}\n",
    "{\"Minimum\":<10} : {data_p2.bill_length_mm.min()}\n",
    "{\"Maximum\":<10} : {data_p2.bill_length_mm.max()}\n",
    "{\"Median\":<10} : {data_p2.bill_length_mm.median()}\n",
    "{\"Mode\":<10} : {data_p2.bill_length_mm.mode()}\n",
    "''')\n"
   ]
  },
  {
   "cell_type": "code",
   "execution_count": null,
   "metadata": {},
   "outputs": [],
   "source": [
    "sns.boxplot(y=\"bill_length_mm\",data=data_p2,width=0.5, palette=[\"lightblue\"])"
   ]
  },
  {
   "cell_type": "markdown",
   "metadata": {},
   "source": [
    "# Q-6\n",
    "\n",
    "Find the standard deviations of the columns of penguins data in the Seaborn library and interpret the results?"
   ]
  },
  {
   "cell_type": "code",
   "execution_count": null,
   "metadata": {},
   "outputs": [],
   "source": [
    "print(f\"standart deviation of bill_length_mm    : {np.std(data_p2.bill_length_mm)}\")\n",
    "print(f\"**********************************************************************\")\n",
    "print(f\"standart deviation of bill_depth_mm     : {np.std(data_p2.bill_depth_mm)}\")\n",
    "print(f\"**********************************************************************\")\n",
    "print(f\"standart deviation of flipper_length_mm : {np.std(data_p2.flipper_length_mm)}\")\n",
    "print(f\"**********************************************************************\")\n",
    "print(f\"standart deviation of body_mass_g       : {np.std(data_p2.body_mass_g)}\")\n",
    "print(f\"**********************************************************************\")"
   ]
  },
  {
   "cell_type": "markdown",
   "metadata": {},
   "source": [
    "The column with the lowest standard deviation is bill_depth_mm. therefore scattering from the center is less"
   ]
  }
 ],
 "metadata": {
  "interpreter": {
   "hash": "8fbfba7cb8bdca769b43cbb833a817b4ca395e01b4b8dedb589dfb9294fd4e87"
  },
  "kernelspec": {
   "display_name": "Python 3.10.1 64-bit",
   "language": "python",
   "name": "python3"
  },
  "language_info": {
   "codemirror_mode": {
    "name": "ipython",
    "version": 3
   },
   "file_extension": ".py",
   "mimetype": "text/x-python",
   "name": "python",
   "nbconvert_exporter": "python",
   "pygments_lexer": "ipython3",
   "version": "3.10.1"
  },
  "orig_nbformat": 4
 },
 "nbformat": 4,
 "nbformat_minor": 2
}
